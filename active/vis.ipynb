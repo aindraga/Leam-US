{
 "cells": [
  {
   "cell_type": "markdown",
   "metadata": {},
   "source": [
    "# Imports"
   ]
  },
  {
   "cell_type": "code",
   "execution_count": 2,
   "metadata": {},
   "outputs": [],
   "source": [
    "import matplotlib.pyplot as plt\n",
    "import pandas as pd\n",
    "import numpy as np\n",
    "import lib.utils as utils\n",
    "import yaml"
   ]
  },
  {
   "cell_type": "markdown",
   "metadata": {},
   "source": [
    "# Reading In Model Metrics"
   ]
  },
  {
   "cell_type": "code",
   "execution_count": 3,
   "metadata": {},
   "outputs": [
    {
     "data": {
      "text/html": [
       "<div>\n",
       "<style scoped>\n",
       "    .dataframe tbody tr th:only-of-type {\n",
       "        vertical-align: middle;\n",
       "    }\n",
       "\n",
       "    .dataframe tbody tr th {\n",
       "        vertical-align: top;\n",
       "    }\n",
       "\n",
       "    .dataframe thead th {\n",
       "        text-align: right;\n",
       "    }\n",
       "</style>\n",
       "<table border=\"1\" class=\"dataframe\">\n",
       "  <thead>\n",
       "    <tr style=\"text-align: right;\">\n",
       "      <th></th>\n",
       "      <th>val_mae</th>\n",
       "      <th>test_mae</th>\n",
       "      <th>test_rmse</th>\n",
       "    </tr>\n",
       "  </thead>\n",
       "  <tbody>\n",
       "    <tr>\n",
       "      <th>0</th>\n",
       "      <td>59742.062</td>\n",
       "      <td>53139.8050</td>\n",
       "      <td>349243.750</td>\n",
       "    </tr>\n",
       "    <tr>\n",
       "      <th>1</th>\n",
       "      <td>19856.299</td>\n",
       "      <td>17575.5570</td>\n",
       "      <td>125415.270</td>\n",
       "    </tr>\n",
       "    <tr>\n",
       "      <th>2</th>\n",
       "      <td>15039.944</td>\n",
       "      <td>12867.9600</td>\n",
       "      <td>91571.250</td>\n",
       "    </tr>\n",
       "    <tr>\n",
       "      <th>3</th>\n",
       "      <td>13273.958</td>\n",
       "      <td>9995.8090</td>\n",
       "      <td>62587.207</td>\n",
       "    </tr>\n",
       "    <tr>\n",
       "      <th>4</th>\n",
       "      <td>12781.422</td>\n",
       "      <td>9133.1780</td>\n",
       "      <td>61111.008</td>\n",
       "    </tr>\n",
       "    <tr>\n",
       "      <th>5</th>\n",
       "      <td>11537.903</td>\n",
       "      <td>8744.8770</td>\n",
       "      <td>56918.950</td>\n",
       "    </tr>\n",
       "    <tr>\n",
       "      <th>6</th>\n",
       "      <td>11891.605</td>\n",
       "      <td>8856.7160</td>\n",
       "      <td>58590.016</td>\n",
       "    </tr>\n",
       "    <tr>\n",
       "      <th>7</th>\n",
       "      <td>9494.588</td>\n",
       "      <td>6640.4907</td>\n",
       "      <td>46418.970</td>\n",
       "    </tr>\n",
       "    <tr>\n",
       "      <th>8</th>\n",
       "      <td>9342.224</td>\n",
       "      <td>6435.0825</td>\n",
       "      <td>40443.973</td>\n",
       "    </tr>\n",
       "    <tr>\n",
       "      <th>9</th>\n",
       "      <td>9037.473</td>\n",
       "      <td>6204.2340</td>\n",
       "      <td>41694.950</td>\n",
       "    </tr>\n",
       "    <tr>\n",
       "      <th>10</th>\n",
       "      <td>9257.776</td>\n",
       "      <td>5977.6177</td>\n",
       "      <td>40029.460</td>\n",
       "    </tr>\n",
       "    <tr>\n",
       "      <th>11</th>\n",
       "      <td>7600.173</td>\n",
       "      <td>5145.1626</td>\n",
       "      <td>38471.164</td>\n",
       "    </tr>\n",
       "  </tbody>\n",
       "</table>\n",
       "</div>"
      ],
      "text/plain": [
       "      val_mae    test_mae   test_rmse\n",
       "0   59742.062  53139.8050  349243.750\n",
       "1   19856.299  17575.5570  125415.270\n",
       "2   15039.944  12867.9600   91571.250\n",
       "3   13273.958   9995.8090   62587.207\n",
       "4   12781.422   9133.1780   61111.008\n",
       "5   11537.903   8744.8770   56918.950\n",
       "6   11891.605   8856.7160   58590.016\n",
       "7    9494.588   6640.4907   46418.970\n",
       "8    9342.224   6435.0825   40443.973\n",
       "9    9037.473   6204.2340   41694.950\n",
       "10   9257.776   5977.6177   40029.460\n",
       "11   7600.173   5145.1626   38471.164"
      ]
     },
     "execution_count": 3,
     "metadata": {},
     "output_type": "execute_result"
    }
   ],
   "source": [
    "df = pd.read_csv(\"metric_seed1.csv\")\n",
    "df"
   ]
  },
  {
   "cell_type": "markdown",
   "metadata": {},
   "source": [
    "# Final Metrics (Population / 1,000)"
   ]
  },
  {
   "cell_type": "code",
   "execution_count": 4,
   "metadata": {},
   "outputs": [
    {
     "data": {
      "text/plain": [
       "val_mae       7.600173\n",
       "test_mae      5.145163\n",
       "test_rmse    38.471164\n",
       "Name: 11, dtype: float64"
      ]
     },
     "execution_count": 4,
     "metadata": {},
     "output_type": "execute_result"
    }
   ],
   "source": [
    "df.iloc[-1, :] / 1000"
   ]
  },
  {
   "cell_type": "markdown",
   "metadata": {},
   "source": [
    "# Obtain Percentages of Data Used Per Iteration During Training"
   ]
  },
  {
   "cell_type": "code",
   "execution_count": 5,
   "metadata": {},
   "outputs": [
    {
     "name": "stdout",
     "output_type": "stream",
     "text": [
      "Initial Training: 1728\n",
      "Train Iteration 1: 2202\n",
      "Train Iteration 2: 2571\n",
      "Train Iteration 3: 3009\n",
      "Train Iteration 4: 3366\n",
      "Train Iteration 5: 3720\n",
      "Train Iteration 6: 4155\n",
      "Train Iteration 7: 4557\n",
      "Train Iteration 8: 4953\n",
      "Train Iteration 9: 5337\n",
      "Train Iteration 10: 5742\n",
      "Train Iteration 11: 6150\n",
      "Train Iteration 12: 6507\n"
     ]
    }
   ],
   "source": [
    "# Load Config File\n",
    "with open(\"data/model/dcrnn_cov.yaml\") as f:\n",
    "    supervisor_config = yaml.safe_load(f)\n",
    "\n",
    "# Read in Data From Config File\n",
    "data, search_data_x, search_data_y = utils.load_dataset(**supervisor_config.get('data'))\n",
    "\n",
    "# Calculate Total Data Across Train, Test, and Val Datasets\n",
    "types = [\"train\", \"val\", \"test\"]\n",
    "total_data_len = sum([np.load(f\"data/data/{item}.npz\", \\\n",
    "                              allow_pickle=True)[\"x\"].shape[0] for item in types])\n",
    "\n",
    "print(f\"Initial Training: {data[\"x_train\"].shape[0]}\")\n",
    "\n",
    "# Base Loop To Get Percent Per Iteration\n",
    "all_percents = []\n",
    "for i in range(1, 13):\n",
    "    # Reward and Index List at Iteration \"i\"\n",
    "    reward_list = np.load(f\"seed1/reward_list/itr{i}.npy\")\n",
    "    index_list = np.load(f\"seed1/index_list/itr{i}.npy\")\n",
    "\n",
    "    # The Selected Data For the Iteration\n",
    "    selected_ind = np.argmax(np.array(reward_list))\n",
    "    selected_data_x = [search_data_x[i] for i in index_list[selected_ind]]\n",
    "    selected_data_y = [search_data_y[i] for i in index_list[selected_ind]]\n",
    "\n",
    "    # Preprocessing Before Creating New Training Dataset\n",
    "    selected_data = {}\n",
    "    selected_data['x'] = selected_data_x\n",
    "    selected_data['y'] = selected_data_y\n",
    "    search_config = supervisor_config.get('data').copy()\n",
    "    search_config['selected_data'] = selected_data\n",
    "    search_config['previous_data'] = data\n",
    "\n",
    "    # Create New Training Dataset\n",
    "    data = utils.generate_new_trainset(**search_config)\n",
    "\n",
    "    # Get the Dataset Shape and Percent of Data Used To Train\n",
    "    print(f\"Train Iteration {i}: {data[\"x_train\"].shape[0]}\")\n",
    "    all_percents.append(data[\"x_train\"].shape[0] / total_data_len)"
   ]
  },
  {
   "cell_type": "code",
   "execution_count": 6,
   "metadata": {},
   "outputs": [
    {
     "data": {
      "text/plain": [
       "[0.10536893482629917,\n",
       " 0.1230261269020959,\n",
       " 0.1439850703416595,\n",
       " 0.16106804478897502,\n",
       " 0.17800746482917026,\n",
       " 0.19882285386161355,\n",
       " 0.21805914441573357,\n",
       " 0.23700832615561299,\n",
       " 0.2553832902670112,\n",
       " 0.2747631352282515,\n",
       " 0.29428653459661214,\n",
       " 0.31136950904392763]"
      ]
     },
     "execution_count": 6,
     "metadata": {},
     "output_type": "execute_result"
    }
   ],
   "source": [
    "all_percents"
   ]
  },
  {
   "cell_type": "code",
   "execution_count": 13,
   "metadata": {},
   "outputs": [
    {
     "data": {
      "text/plain": [
       "<matplotlib.legend.Legend at 0x133f28860>"
      ]
     },
     "execution_count": 13,
     "metadata": {},
     "output_type": "execute_result"
    },
    {
     "data": {
      "image/png": "[encoded data removed]",
      "text/plain": [
       "<Figure size 640x480 with 1 Axes>"
      ]
     },
     "metadata": {},
     "output_type": "display_data"
    }
   ],
   "source": [
    "plt.ylabel(\"Test MAE (Population / 1000)\")\n",
    "plt.xlabel(\"Percentage of Data\")\n",
    "plt.title(\"Test MAE Loss for Leam-US Model Run\")\n",
    "plt.plot(all_percents, df[\"test_mae\"]/1000, color=\"red\", label=\"My Run Metrics\")\n",
    "\n",
    "plt.plot([0.111, 0.137, 0.213, 0.289, 0.365], \\\n",
    "         [14.447, 11.704, 7.593, 6.539, 6.008], \\\n",
    "            color=\"black\", label=\"Table 6 Metrics (Bounds)\", alpha=0.5)\n",
    "plt.plot([0.111, 0.137, 0.213, 0.289, 0.365], \\\n",
    "         [14.447-1.087, 11.704-0.216, 7.593-0.822, 6.539-0.618, 6.008-0.741], \\\n",
    "         color=\"black\", alpha=0.5)\n",
    "\n",
    "plt.plot([0.111, 0.137, 0.213, 0.289, 0.365], \\\n",
    "         [14.447+1.087, 11.704+0.216, 7.593+0.822, 6.539+0.618, 6.008+0.741], \\\n",
    "         color=\"black\", alpha=0.5)\n",
    "plt.legend()"
   ]
  },
  {
   "cell_type": "code",
   "execution_count": 9,
   "metadata": {},
   "outputs": [],
   "source": [
    "df[\"percent_data\"] = all_percents"
   ]
  },
  {
   "cell_type": "code",
   "execution_count": 10,
   "metadata": {},
   "outputs": [],
   "source": [
    "df[\"pop_div_hundred_test_mae\"] = df[\"test_mae\"] / 1000"
   ]
  },
  {
   "cell_type": "code",
   "execution_count": 11,
   "metadata": {},
   "outputs": [
    {
     "data": {
      "text/html": [
       "<div>\n",
       "<style scoped>\n",
       "    .dataframe tbody tr th:only-of-type {\n",
       "        vertical-align: middle;\n",
       "    }\n",
       "\n",
       "    .dataframe tbody tr th {\n",
       "        vertical-align: top;\n",
       "    }\n",
       "\n",
       "    .dataframe thead th {\n",
       "        text-align: right;\n",
       "    }\n",
       "</style>\n",
       "<table border=\"1\" class=\"dataframe\">\n",
       "  <thead>\n",
       "    <tr style=\"text-align: right;\">\n",
       "      <th></th>\n",
       "      <th>val_mae</th>\n",
       "      <th>test_mae</th>\n",
       "      <th>test_rmse</th>\n",
       "      <th>percent_data</th>\n",
       "      <th>pop_div_hundred_test_mae</th>\n",
       "    </tr>\n",
       "  </thead>\n",
       "  <tbody>\n",
       "    <tr>\n",
       "      <th>0</th>\n",
       "      <td>59742.062</td>\n",
       "      <td>53139.8050</td>\n",
       "      <td>349243.750</td>\n",
       "      <td>0.105369</td>\n",
       "      <td>53.139805</td>\n",
       "    </tr>\n",
       "    <tr>\n",
       "      <th>1</th>\n",
       "      <td>19856.299</td>\n",
       "      <td>17575.5570</td>\n",
       "      <td>125415.270</td>\n",
       "      <td>0.123026</td>\n",
       "      <td>17.575557</td>\n",
       "    </tr>\n",
       "    <tr>\n",
       "      <th>2</th>\n",
       "      <td>15039.944</td>\n",
       "      <td>12867.9600</td>\n",
       "      <td>91571.250</td>\n",
       "      <td>0.143985</td>\n",
       "      <td>12.867960</td>\n",
       "    </tr>\n",
       "    <tr>\n",
       "      <th>3</th>\n",
       "      <td>13273.958</td>\n",
       "      <td>9995.8090</td>\n",
       "      <td>62587.207</td>\n",
       "      <td>0.161068</td>\n",
       "      <td>9.995809</td>\n",
       "    </tr>\n",
       "    <tr>\n",
       "      <th>4</th>\n",
       "      <td>12781.422</td>\n",
       "      <td>9133.1780</td>\n",
       "      <td>61111.008</td>\n",
       "      <td>0.178007</td>\n",
       "      <td>9.133178</td>\n",
       "    </tr>\n",
       "    <tr>\n",
       "      <th>5</th>\n",
       "      <td>11537.903</td>\n",
       "      <td>8744.8770</td>\n",
       "      <td>56918.950</td>\n",
       "      <td>0.198823</td>\n",
       "      <td>8.744877</td>\n",
       "    </tr>\n",
       "    <tr>\n",
       "      <th>6</th>\n",
       "      <td>11891.605</td>\n",
       "      <td>8856.7160</td>\n",
       "      <td>58590.016</td>\n",
       "      <td>0.218059</td>\n",
       "      <td>8.856716</td>\n",
       "    </tr>\n",
       "    <tr>\n",
       "      <th>7</th>\n",
       "      <td>9494.588</td>\n",
       "      <td>6640.4907</td>\n",
       "      <td>46418.970</td>\n",
       "      <td>0.237008</td>\n",
       "      <td>6.640491</td>\n",
       "    </tr>\n",
       "    <tr>\n",
       "      <th>8</th>\n",
       "      <td>9342.224</td>\n",
       "      <td>6435.0825</td>\n",
       "      <td>40443.973</td>\n",
       "      <td>0.255383</td>\n",
       "      <td>6.435083</td>\n",
       "    </tr>\n",
       "    <tr>\n",
       "      <th>9</th>\n",
       "      <td>9037.473</td>\n",
       "      <td>6204.2340</td>\n",
       "      <td>41694.950</td>\n",
       "      <td>0.274763</td>\n",
       "      <td>6.204234</td>\n",
       "    </tr>\n",
       "    <tr>\n",
       "      <th>10</th>\n",
       "      <td>9257.776</td>\n",
       "      <td>5977.6177</td>\n",
       "      <td>40029.460</td>\n",
       "      <td>0.294287</td>\n",
       "      <td>5.977618</td>\n",
       "    </tr>\n",
       "    <tr>\n",
       "      <th>11</th>\n",
       "      <td>7600.173</td>\n",
       "      <td>5145.1626</td>\n",
       "      <td>38471.164</td>\n",
       "      <td>0.311370</td>\n",
       "      <td>5.145163</td>\n",
       "    </tr>\n",
       "  </tbody>\n",
       "</table>\n",
       "</div>"
      ],
      "text/plain": [
       "      val_mae    test_mae   test_rmse  percent_data  pop_div_hundred_test_mae\n",
       "0   59742.062  53139.8050  349243.750      0.105369                 53.139805\n",
       "1   19856.299  17575.5570  125415.270      0.123026                 17.575557\n",
       "2   15039.944  12867.9600   91571.250      0.143985                 12.867960\n",
       "3   13273.958   9995.8090   62587.207      0.161068                  9.995809\n",
       "4   12781.422   9133.1780   61111.008      0.178007                  9.133178\n",
       "5   11537.903   8744.8770   56918.950      0.198823                  8.744877\n",
       "6   11891.605   8856.7160   58590.016      0.218059                  8.856716\n",
       "7    9494.588   6640.4907   46418.970      0.237008                  6.640491\n",
       "8    9342.224   6435.0825   40443.973      0.255383                  6.435083\n",
       "9    9037.473   6204.2340   41694.950      0.274763                  6.204234\n",
       "10   9257.776   5977.6177   40029.460      0.294287                  5.977618\n",
       "11   7600.173   5145.1626   38471.164      0.311370                  5.145163"
      ]
     },
     "execution_count": 11,
     "metadata": {},
     "output_type": "execute_result"
    }
   ],
   "source": [
    "df"
   ]
  },
  {
   "cell_type": "code",
   "execution_count": null,
   "metadata": {},
   "outputs": [],
   "source": []
  }
 ],
 "metadata": {
  "kernelspec": {
   "display_name": "Python 3",
   "language": "python",
   "name": "python3"
  },
  "language_info": {
   "codemirror_mode": {
    "name": "ipython",
    "version": 3
   },
   "file_extension": ".py",
   "mimetype": "text/x-python",
   "name": "python",
   "nbconvert_exporter": "python",
   "pygments_lexer": "ipython3",
   "version": "3.12.7"
  }
 },
 "nbformat": 4,
 "nbformat_minor": 2
}
