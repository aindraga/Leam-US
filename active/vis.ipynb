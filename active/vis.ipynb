{
 "cells": [
  {
   "cell_type": "markdown",
   "metadata": {},
   "source": [
    "# Imports"
   ]
  },
  {
   "cell_type": "code",
   "execution_count": 1,
   "metadata": {},
   "outputs": [],
   "source": [
    "import matplotlib.pyplot as plt\n",
    "import pandas as pd\n",
    "import numpy as np\n",
    "import lib.utils as utils\n",
    "import yaml"
   ]
  },
  {
   "cell_type": "markdown",
   "metadata": {},
   "source": [
    "# Reading In Model Metrics"
   ]
  },
  {
   "cell_type": "markdown",
   "metadata": {},
   "source": [
    "### This dataframe contains the model performance metrics from the train I performed. The columns include the validation MAE, test MAE, and test RMSE of the model run of their respective datasets. "
   ]
  },
  {
   "cell_type": "code",
   "execution_count": 2,
   "metadata": {},
   "outputs": [
    {
     "data": {
      "text/html": [
       "<div>\n",
       "<style scoped>\n",
       "    .dataframe tbody tr th:only-of-type {\n",
       "        vertical-align: middle;\n",
       "    }\n",
       "\n",
       "    .dataframe tbody tr th {\n",
       "        vertical-align: top;\n",
       "    }\n",
       "\n",
       "    .dataframe thead th {\n",
       "        text-align: right;\n",
       "    }\n",
       "</style>\n",
       "<table border=\"1\" class=\"dataframe\">\n",
       "  <thead>\n",
       "    <tr style=\"text-align: right;\">\n",
       "      <th></th>\n",
       "      <th>val_mae</th>\n",
       "      <th>test_mae</th>\n",
       "      <th>test_rmse</th>\n",
       "    </tr>\n",
       "  </thead>\n",
       "  <tbody>\n",
       "    <tr>\n",
       "      <th>0</th>\n",
       "      <td>59742.062</td>\n",
       "      <td>53139.8050</td>\n",
       "      <td>349243.750</td>\n",
       "    </tr>\n",
       "    <tr>\n",
       "      <th>1</th>\n",
       "      <td>19856.299</td>\n",
       "      <td>17575.5570</td>\n",
       "      <td>125415.270</td>\n",
       "    </tr>\n",
       "    <tr>\n",
       "      <th>2</th>\n",
       "      <td>15039.944</td>\n",
       "      <td>12867.9600</td>\n",
       "      <td>91571.250</td>\n",
       "    </tr>\n",
       "    <tr>\n",
       "      <th>3</th>\n",
       "      <td>13273.958</td>\n",
       "      <td>9995.8090</td>\n",
       "      <td>62587.207</td>\n",
       "    </tr>\n",
       "    <tr>\n",
       "      <th>4</th>\n",
       "      <td>12781.422</td>\n",
       "      <td>9133.1780</td>\n",
       "      <td>61111.008</td>\n",
       "    </tr>\n",
       "    <tr>\n",
       "      <th>5</th>\n",
       "      <td>11537.903</td>\n",
       "      <td>8744.8770</td>\n",
       "      <td>56918.950</td>\n",
       "    </tr>\n",
       "    <tr>\n",
       "      <th>6</th>\n",
       "      <td>11891.605</td>\n",
       "      <td>8856.7160</td>\n",
       "      <td>58590.016</td>\n",
       "    </tr>\n",
       "    <tr>\n",
       "      <th>7</th>\n",
       "      <td>9494.588</td>\n",
       "      <td>6640.4907</td>\n",
       "      <td>46418.970</td>\n",
       "    </tr>\n",
       "    <tr>\n",
       "      <th>8</th>\n",
       "      <td>9342.224</td>\n",
       "      <td>6435.0825</td>\n",
       "      <td>40443.973</td>\n",
       "    </tr>\n",
       "    <tr>\n",
       "      <th>9</th>\n",
       "      <td>9037.473</td>\n",
       "      <td>6204.2340</td>\n",
       "      <td>41694.950</td>\n",
       "    </tr>\n",
       "    <tr>\n",
       "      <th>10</th>\n",
       "      <td>9257.776</td>\n",
       "      <td>5977.6177</td>\n",
       "      <td>40029.460</td>\n",
       "    </tr>\n",
       "    <tr>\n",
       "      <th>11</th>\n",
       "      <td>7600.173</td>\n",
       "      <td>5145.1626</td>\n",
       "      <td>38471.164</td>\n",
       "    </tr>\n",
       "  </tbody>\n",
       "</table>\n",
       "</div>"
      ],
      "text/plain": [
       "      val_mae    test_mae   test_rmse\n",
       "0   59742.062  53139.8050  349243.750\n",
       "1   19856.299  17575.5570  125415.270\n",
       "2   15039.944  12867.9600   91571.250\n",
       "3   13273.958   9995.8090   62587.207\n",
       "4   12781.422   9133.1780   61111.008\n",
       "5   11537.903   8744.8770   56918.950\n",
       "6   11891.605   8856.7160   58590.016\n",
       "7    9494.588   6640.4907   46418.970\n",
       "8    9342.224   6435.0825   40443.973\n",
       "9    9037.473   6204.2340   41694.950\n",
       "10   9257.776   5977.6177   40029.460\n",
       "11   7600.173   5145.1626   38471.164"
      ]
     },
     "execution_count": 2,
     "metadata": {},
     "output_type": "execute_result"
    }
   ],
   "source": [
    "df = pd.read_csv(\"metric_seed1.csv\")\n",
    "df"
   ]
  },
  {
   "cell_type": "markdown",
   "metadata": {},
   "source": [
    "# Final Metrics (Population / 1,000)"
   ]
  },
  {
   "cell_type": "markdown",
   "metadata": {},
   "source": [
    "### These are the final metrics of the model run after fully training. In accordace with the paper, I reported the metrics with respect to population divided by 1,000."
   ]
  },
  {
   "cell_type": "code",
   "execution_count": 3,
   "metadata": {},
   "outputs": [
    {
     "data": {
      "text/plain": [
       "val_mae       7.600173\n",
       "test_mae      5.145163\n",
       "test_rmse    38.471164\n",
       "Name: 11, dtype: float64"
      ]
     },
     "execution_count": 3,
     "metadata": {},
     "output_type": "execute_result"
    }
   ],
   "source": [
    "df.iloc[-1, :] / 1000"
   ]
  },
  {
   "cell_type": "markdown",
   "metadata": {},
   "source": [
    "# Obtain Percentages of Data Used Per Iteration During Training"
   ]
  },
  {
   "cell_type": "markdown",
   "metadata": {},
   "source": [
    "### This code reverse engineers the model training to calculate the percent of data used during each iteration and the subsequent test MAE of that iteration. The step by step write up is included below."
   ]
  },
  {
   "cell_type": "markdown",
   "metadata": {},
   "source": [
    "## Step 1: Load the configurations file.\n",
    "\n",
    "##### This allows us to extract the data from the correct places and track the necessary variables for this process to work"
   ]
  },
  {
   "cell_type": "code",
   "execution_count": 4,
   "metadata": {},
   "outputs": [],
   "source": [
    "with open(\"data/model/dcrnn_cov.yaml\") as f:\n",
    "    supervisor_config = yaml.safe_load(f)"
   ]
  },
  {
   "cell_type": "markdown",
   "metadata": {},
   "source": [
    "## Step 2: Load the Initial Dataset\n",
    "\n",
    "##### This loads in the initial dataset. The shape for any model run of the initial dataset is the same and therefore, for the sake of the task we performed, is consistent."
   ]
  },
  {
   "cell_type": "code",
   "execution_count": 5,
   "metadata": {},
   "outputs": [],
   "source": [
    "data, search_data_x, search_data_y = utils.load_dataset(**supervisor_config.get('data'))"
   ]
  },
  {
   "cell_type": "code",
   "execution_count": 6,
   "metadata": {},
   "outputs": [
    {
     "data": {
      "text/plain": [
       "'Initial Training Data Size: 1728'"
      ]
     },
     "execution_count": 6,
     "metadata": {},
     "output_type": "execute_result"
    }
   ],
   "source": [
    "f\"Initial Training Data Size: {data[\"x_train\"].shape[0]}\""
   ]
  },
  {
   "cell_type": "markdown",
   "metadata": {},
   "source": [
    "## Step 3: Calculate Data Percents' Denominator\n",
    "\n",
    "##### For this step, I calculated the denominator for the 'percent of data used' calculation. The steps are below\n",
    "    > Load the curr dataset\n",
    "    > Take the \"x\" parameter\n",
    "    > Extract the rows\n",
    "    > Add it to the total number of rows"
   ]
  },
  {
   "cell_type": "code",
   "execution_count": 7,
   "metadata": {},
   "outputs": [
    {
     "data": {
      "text/plain": [
       "20898"
      ]
     },
     "execution_count": 7,
     "metadata": {},
     "output_type": "execute_result"
    }
   ],
   "source": [
    "types = [\"train\", \"val\", \"test\"]\n",
    "total_data_len = 0\n",
    "for item in types:\n",
    "    curr_set = np.load(f\"data/data/{item}.npz\", allow_pickle=True)\n",
    "    curr_set_x = curr_set[\"x\"]\n",
    "    curr_set_x_rows = curr_set_x.shape[0]\n",
    "    total_data_len += curr_set_x_rows\n",
    "\n",
    "total_data_len"
   ]
  },
  {
   "cell_type": "markdown",
   "metadata": {},
   "source": [
    "## Step 4: Calculate the percent of data that was used to train the model.\n",
    "\n",
    "##### For this step, we performed the following steps:\n",
    "    > Create the base loop. We used 12 as that was the number of iterations the model trained on (12 queried data points)\n",
    "    > Load the corresponding reward and index lists of that iteration\n",
    "    > Take the max reward from the reward list\n",
    "        > This mimics what the model does to select which index it is going to use to select data for the model\n",
    "    > Query the selected data\n",
    "    > Preprocess the selected data and previous data\n",
    "    > Pass the preprocessed data into the 'generate_new_trainset()' function to generate the new training dataset\n",
    "    > Take the shape of this new training dataset, divide its rows by the total rows we calculated above, and append that percent to the 'all_percents' list"
   ]
  },
  {
   "cell_type": "code",
   "execution_count": null,
   "metadata": {},
   "outputs": [
    {
     "name": "stdout",
     "output_type": "stream",
     "text": [
      "Train Iteration 1 Train Data Size: 2202\n",
      "Train Iteration 2 Train Data Size: 2571\n",
      "Train Iteration 3 Train Data Size: 3009\n",
      "Train Iteration 4 Train Data Size: 3366\n",
      "Train Iteration 5 Train Data Size: 3720\n",
      "Train Iteration 6 Train Data Size: 4155\n",
      "Train Iteration 7 Train Data Size: 4557\n",
      "Train Iteration 8 Train Data Size: 4953\n",
      "Train Iteration 9 Train Data Size: 5337\n",
      "Train Iteration 10 Train Data Size: 5742\n",
      "Train Iteration 11 Train Data Size: 6150\n",
      "Train Iteration 12 Train Data Size: 6507\n"
     ]
    }
   ],
   "source": [
    "# Base Loop To Get Percent Per Iteration\n",
    "all_percents = []\n",
    "for i in range(1, 13):\n",
    "    # Reward and Index List at Iteration \"i\"\n",
    "    reward_list = np.load(f\"seed1/reward_list/itr{i}.npy\")\n",
    "    index_list = np.load(f\"seed1/index_list/itr{i}.npy\")\n",
    "\n",
    "    # The Selected Data For the Iteration\n",
    "    selected_ind = np.argmax(np.array(reward_list))\n",
    "    selected_data_x = [search_data_x[i] for i in index_list[selected_ind]]\n",
    "    selected_data_y = [search_data_y[i] for i in index_list[selected_ind]]\n",
    "\n",
    "    # Preprocessing Before Creating New Training Dataset\n",
    "    selected_data = {}\n",
    "    selected_data['x'] = selected_data_x\n",
    "    selected_data['y'] = selected_data_y\n",
    "    search_config = supervisor_config.get('data').copy()\n",
    "    search_config['selected_data'] = selected_data\n",
    "    search_config['previous_data'] = data\n",
    "\n",
    "    # Create New Training Dataset\n",
    "    data = utils.generate_new_trainset(**search_config)\n",
    "\n",
    "    # Get the Dataset Shape and Percent of Data Used To Train\n",
    "    print(f\"Train Iteration {i} Train Data Percent: {data[\"x_train\"].shape[0] / total_data_len}\")\n",
    "    all_percents.append(data[\"x_train\"].shape[0] / total_data_len)"
   ]
  },
  {
   "cell_type": "code",
   "execution_count": 9,
   "metadata": {},
   "outputs": [
    {
     "data": {
      "text/plain": [
       "[0.10536893482629917,\n",
       " 0.1230261269020959,\n",
       " 0.1439850703416595,\n",
       " 0.16106804478897502,\n",
       " 0.17800746482917026,\n",
       " 0.19882285386161355,\n",
       " 0.21805914441573357,\n",
       " 0.23700832615561299,\n",
       " 0.2553832902670112,\n",
       " 0.2747631352282515,\n",
       " 0.29428653459661214,\n",
       " 0.31136950904392763]"
      ]
     },
     "execution_count": 9,
     "metadata": {},
     "output_type": "execute_result"
    }
   ],
   "source": [
    "all_percents"
   ]
  },
  {
   "cell_type": "markdown",
   "metadata": {},
   "source": [
    "##### In this portion, we notice that the percents do not line up with the percents of the paper. Due to this, a little experimentation was done to try and reverse engineer these percents but to no avail. There will be further work on this aspect of the code"
   ]
  },
  {
   "cell_type": "markdown",
   "metadata": {},
   "source": [
    "## Step 5: Create Plot of Our Model Run vs. Paper's Metrics\n",
    "\n",
    "##### Below are the steps\n",
    "    > Define the paper's metrics and errors to create 'bands' that make comparing the model performance easier from a visual perspective\n",
    "    > Create our model plot from the dataframe define above"
   ]
  },
  {
   "cell_type": "code",
   "execution_count": 10,
   "metadata": {},
   "outputs": [],
   "source": [
    "paper_avgs = np.array([14.447, 11.704, 7.593, 6.539, 6.008])"
   ]
  },
  {
   "cell_type": "code",
   "execution_count": 11,
   "metadata": {},
   "outputs": [],
   "source": [
    "paper_errors = np.array([1.087, 0.216, 0.822, 0.618, 1.079])"
   ]
  },
  {
   "cell_type": "code",
   "execution_count": 12,
   "metadata": {},
   "outputs": [],
   "source": [
    "lower_paper_bound = paper_avgs - paper_errors\n",
    "upper_paper_bound = paper_avgs + paper_errors"
   ]
  },
  {
   "cell_type": "code",
   "execution_count": 13,
   "metadata": {},
   "outputs": [],
   "source": [
    "paper_percents = [0.111, 0.137, 0.213, 0.289, 0.365]"
   ]
  },
  {
   "cell_type": "code",
   "execution_count": 19,
   "metadata": {},
   "outputs": [
    {
     "data": {
      "text/plain": [
       "<matplotlib.legend.Legend at 0x124b1deb0>"
      ]
     },
     "execution_count": 19,
     "metadata": {},
     "output_type": "execute_result"
    },
    {
     "data": {
      "image/png": "[encoded data removed]",
      "text/plain": [
       "<Figure size 640x480 with 1 Axes>"
      ]
     },
     "metadata": {},
     "output_type": "display_data"
    }
   ],
   "source": [
    "plt.ylabel(\"Test MAE (Population / 1000)\")\n",
    "plt.xlabel(\"Percentage of Data\")\n",
    "plt.title(\"Test MAE Loss for Leam-US Model Run\")\n",
    "plt.plot(all_percents, df[\"test_mae\"]/1000, color=\"red\", label=\"My Run Metrics\")\n",
    "\n",
    "plt.plot(paper_percents, paper_avgs, color=\"black\", label=\"Table 6 Metrics Band\", alpha=0.5)\n",
    "plt.plot(paper_percents, lower_paper_bound, color=\"black\", alpha=0.5)\n",
    "plt.plot(paper_percents, upper_paper_bound, color=\"black\", alpha=0.5)\n",
    "plt.legend()"
   ]
  },
  {
   "cell_type": "markdown",
   "metadata": {},
   "source": [
    "##### For the sake of comparing percentages and compiling them into a single location, I added all necessary statistics to the dataframe declared above. "
   ]
  },
  {
   "cell_type": "code",
   "execution_count": 20,
   "metadata": {},
   "outputs": [],
   "source": [
    "df[\"percent_data\"] = all_percents"
   ]
  },
  {
   "cell_type": "code",
   "execution_count": 21,
   "metadata": {},
   "outputs": [],
   "source": [
    "df[\"pop_div_hundred_test_mae\"] = df[\"test_mae\"] / 1000"
   ]
  },
  {
   "cell_type": "code",
   "execution_count": 22,
   "metadata": {},
   "outputs": [
    {
     "data": {
      "text/html": [
       "<div>\n",
       "<style scoped>\n",
       "    .dataframe tbody tr th:only-of-type {\n",
       "        vertical-align: middle;\n",
       "    }\n",
       "\n",
       "    .dataframe tbody tr th {\n",
       "        vertical-align: top;\n",
       "    }\n",
       "\n",
       "    .dataframe thead th {\n",
       "        text-align: right;\n",
       "    }\n",
       "</style>\n",
       "<table border=\"1\" class=\"dataframe\">\n",
       "  <thead>\n",
       "    <tr style=\"text-align: right;\">\n",
       "      <th></th>\n",
       "      <th>val_mae</th>\n",
       "      <th>test_mae</th>\n",
       "      <th>test_rmse</th>\n",
       "      <th>percent_data</th>\n",
       "      <th>pop_div_hundred_test_mae</th>\n",
       "    </tr>\n",
       "  </thead>\n",
       "  <tbody>\n",
       "    <tr>\n",
       "      <th>0</th>\n",
       "      <td>59742.062</td>\n",
       "      <td>53139.8050</td>\n",
       "      <td>349243.750</td>\n",
       "      <td>0.105369</td>\n",
       "      <td>53.139805</td>\n",
       "    </tr>\n",
       "    <tr>\n",
       "      <th>1</th>\n",
       "      <td>19856.299</td>\n",
       "      <td>17575.5570</td>\n",
       "      <td>125415.270</td>\n",
       "      <td>0.123026</td>\n",
       "      <td>17.575557</td>\n",
       "    </tr>\n",
       "    <tr>\n",
       "      <th>2</th>\n",
       "      <td>15039.944</td>\n",
       "      <td>12867.9600</td>\n",
       "      <td>91571.250</td>\n",
       "      <td>0.143985</td>\n",
       "      <td>12.867960</td>\n",
       "    </tr>\n",
       "    <tr>\n",
       "      <th>3</th>\n",
       "      <td>13273.958</td>\n",
       "      <td>9995.8090</td>\n",
       "      <td>62587.207</td>\n",
       "      <td>0.161068</td>\n",
       "      <td>9.995809</td>\n",
       "    </tr>\n",
       "    <tr>\n",
       "      <th>4</th>\n",
       "      <td>12781.422</td>\n",
       "      <td>9133.1780</td>\n",
       "      <td>61111.008</td>\n",
       "      <td>0.178007</td>\n",
       "      <td>9.133178</td>\n",
       "    </tr>\n",
       "    <tr>\n",
       "      <th>5</th>\n",
       "      <td>11537.903</td>\n",
       "      <td>8744.8770</td>\n",
       "      <td>56918.950</td>\n",
       "      <td>0.198823</td>\n",
       "      <td>8.744877</td>\n",
       "    </tr>\n",
       "    <tr>\n",
       "      <th>6</th>\n",
       "      <td>11891.605</td>\n",
       "      <td>8856.7160</td>\n",
       "      <td>58590.016</td>\n",
       "      <td>0.218059</td>\n",
       "      <td>8.856716</td>\n",
       "    </tr>\n",
       "    <tr>\n",
       "      <th>7</th>\n",
       "      <td>9494.588</td>\n",
       "      <td>6640.4907</td>\n",
       "      <td>46418.970</td>\n",
       "      <td>0.237008</td>\n",
       "      <td>6.640491</td>\n",
       "    </tr>\n",
       "    <tr>\n",
       "      <th>8</th>\n",
       "      <td>9342.224</td>\n",
       "      <td>6435.0825</td>\n",
       "      <td>40443.973</td>\n",
       "      <td>0.255383</td>\n",
       "      <td>6.435083</td>\n",
       "    </tr>\n",
       "    <tr>\n",
       "      <th>9</th>\n",
       "      <td>9037.473</td>\n",
       "      <td>6204.2340</td>\n",
       "      <td>41694.950</td>\n",
       "      <td>0.274763</td>\n",
       "      <td>6.204234</td>\n",
       "    </tr>\n",
       "    <tr>\n",
       "      <th>10</th>\n",
       "      <td>9257.776</td>\n",
       "      <td>5977.6177</td>\n",
       "      <td>40029.460</td>\n",
       "      <td>0.294287</td>\n",
       "      <td>5.977618</td>\n",
       "    </tr>\n",
       "    <tr>\n",
       "      <th>11</th>\n",
       "      <td>7600.173</td>\n",
       "      <td>5145.1626</td>\n",
       "      <td>38471.164</td>\n",
       "      <td>0.311370</td>\n",
       "      <td>5.145163</td>\n",
       "    </tr>\n",
       "  </tbody>\n",
       "</table>\n",
       "</div>"
      ],
      "text/plain": [
       "      val_mae    test_mae   test_rmse  percent_data  pop_div_hundred_test_mae\n",
       "0   59742.062  53139.8050  349243.750      0.105369                 53.139805\n",
       "1   19856.299  17575.5570  125415.270      0.123026                 17.575557\n",
       "2   15039.944  12867.9600   91571.250      0.143985                 12.867960\n",
       "3   13273.958   9995.8090   62587.207      0.161068                  9.995809\n",
       "4   12781.422   9133.1780   61111.008      0.178007                  9.133178\n",
       "5   11537.903   8744.8770   56918.950      0.198823                  8.744877\n",
       "6   11891.605   8856.7160   58590.016      0.218059                  8.856716\n",
       "7    9494.588   6640.4907   46418.970      0.237008                  6.640491\n",
       "8    9342.224   6435.0825   40443.973      0.255383                  6.435083\n",
       "9    9037.473   6204.2340   41694.950      0.274763                  6.204234\n",
       "10   9257.776   5977.6177   40029.460      0.294287                  5.977618\n",
       "11   7600.173   5145.1626   38471.164      0.311370                  5.145163"
      ]
     },
     "execution_count": 22,
     "metadata": {},
     "output_type": "execute_result"
    }
   ],
   "source": [
    "df"
   ]
  },
  {
   "cell_type": "markdown",
   "metadata": {},
   "source": [
    "## Conclusion\n",
    "\n",
    "##### For the plotting done, we can see that there is a significant discrepancy in the intial training iteration performance in comparison to the paper's performance. Noticing this discrepancy, we decided to debug our model and confirm why this potentially happened. Some of the debugging is done in the file \"events.ipynb\". \n",
    "\n",
    "##### We also notice a discrepancy in the percentages mentioned in the paper and the percents found in the calculations above. Further work will be done in regards to this. "
   ]
  }
 ],
 "metadata": {
  "kernelspec": {
   "display_name": "Python 3",
   "language": "python",
   "name": "python3"
  },
  "language_info": {
   "codemirror_mode": {
    "name": "ipython",
    "version": 3
   },
   "file_extension": ".py",
   "mimetype": "text/x-python",
   "name": "python",
   "nbconvert_exporter": "python",
   "pygments_lexer": "ipython3",
   "version": "3.12.7"
  }
 },
 "nbformat": 4,
 "nbformat_minor": 2
}
